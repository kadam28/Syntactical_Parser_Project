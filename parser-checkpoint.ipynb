{
 "cells": [
  {
   "cell_type": "code",
   "execution_count": 1,
   "id": "5fe0d51e",
   "metadata": {},
   "outputs": [
    {
     "name": "stderr",
     "output_type": "stream",
     "text": [
      "[nltk_data] Error loading punkt: <urlopen error [Errno 11001]\n",
      "[nltk_data]     getaddrinfo failed>\n",
      "[nltk_data] Error loading averaged_perceptron_tagger: <urlopen error\n",
      "[nltk_data]     [Errno 11001] getaddrinfo failed>\n"
     ]
    },
    {
     "data": {
      "text/plain": [
       "False"
      ]
     },
     "execution_count": 1,
     "metadata": {},
     "output_type": "execute_result"
    }
   ],
   "source": [
    "import nltk\n",
    "nltk.download('punkt')\n",
    "nltk.download('averaged_perceptron_tagger')"
   ]
  },
  {
   "cell_type": "code",
   "execution_count": 2,
   "id": "452d94eb",
   "metadata": {},
   "outputs": [],
   "source": [
    "from nltk import pos_tag, word_tokenize, RegexpParser"
   ]
  },
  {
   "cell_type": "code",
   "execution_count": 3,
   "id": "2597d550",
   "metadata": {},
   "outputs": [],
   "source": [
    "#text = \"Reliance Retail acquires majority stake in designer brand Abraham & Thakore.\"\n",
    "text=\"how are you doing\""
   ]
  },
  {
   "cell_type": "code",
   "execution_count": 4,
   "id": "eb0139ed",
   "metadata": {},
   "outputs": [],
   "source": [
    "#chunker = RegexpParser(\"\"\"\n",
    "                    #   NP: {}    #To extract Noun Phrases\n",
    "                     #  P: {}               #To extract Prepositions\n",
    "                      # V: {}                #To extract Verbs\n",
    "                       #PP: {}\"\"\")"
   ]
  },
  {
   "cell_type": "code",
   "execution_count": 5,
   "id": "64f1b6fc",
   "metadata": {},
   "outputs": [
    {
     "data": {
      "text/plain": [
       "[('how', 'WRB'), ('are', 'VBP'), ('you', 'PRP'), ('doing', 'VBG')]"
      ]
     },
     "execution_count": 5,
     "metadata": {},
     "output_type": "execute_result"
    }
   ],
   "source": [
    "tokens = word_tokenize(text)\n",
    "tags = pos_tag(tokens)\n",
    "tags "
   ]
  },
  {
   "cell_type": "code",
   "execution_count": 6,
   "id": "9aa1e888",
   "metadata": {},
   "outputs": [],
   "source": [
    "chunker = RegexpParser(\"\"\"\n",
    "                       NP: {}    \n",
    "                       P: {}               \n",
    "                       V: {}                \n",
    "                       PP: {}\"\"\")"
   ]
  },
  {
   "cell_type": "code",
   "execution_count": 7,
   "id": "d6b6554c",
   "metadata": {},
   "outputs": [],
   "source": [
    "result = chunker.parse(tags)   "
   ]
  },
  {
   "cell_type": "code",
   "execution_count": 8,
   "id": "ec0f785b",
   "metadata": {},
   "outputs": [
    {
     "name": "stdout",
     "output_type": "stream",
     "text": [
      "Our Parse Notation:n (S how/WRB are/VBP you/PRP doing/VBG)\n"
     ]
    }
   ],
   "source": [
    "print('Our Parse Notation:n', result)"
   ]
  },
  {
   "cell_type": "code",
   "execution_count": null,
   "id": "eb8ca67b",
   "metadata": {},
   "outputs": [],
   "source": [
    "result.draw()"
   ]
  },
  {
   "cell_type": "code",
   "execution_count": null,
   "id": "3235a5b2",
   "metadata": {},
   "outputs": [],
   "source": []
  },
  {
   "cell_type": "code",
   "execution_count": null,
   "id": "e0b38e1c",
   "metadata": {},
   "outputs": [],
   "source": []
  }
 ],
 "metadata": {
  "kernelspec": {
   "display_name": "Python 3 (ipykernel)",
   "language": "python",
   "name": "python3"
  },
  "language_info": {
   "codemirror_mode": {
    "name": "ipython",
    "version": 3
   },
   "file_extension": ".py",
   "mimetype": "text/x-python",
   "name": "python",
   "nbconvert_exporter": "python",
   "pygments_lexer": "ipython3",
   "version": "3.9.7"
  }
 },
 "nbformat": 4,
 "nbformat_minor": 5
}
